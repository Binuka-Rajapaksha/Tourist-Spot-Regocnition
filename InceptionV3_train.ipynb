{
 "cells": [
  {
   "cell_type": "code",
   "execution_count": 1,
   "id": "initial_id",
   "metadata": {
    "collapsed": true,
    "ExecuteTime": {
     "end_time": "2024-02-25T20:28:22.941009300Z",
     "start_time": "2024-02-25T20:28:16.446135200Z"
    }
   },
   "outputs": [
    {
     "name": "stdout",
     "output_type": "stream",
     "text": [
      "WARNING:tensorflow:From C:\\Users\\rmdmc\\anaconda3\\Lib\\site-packages\\keras\\src\\losses.py:2976: The name tf.losses.sparse_softmax_cross_entropy is deprecated. Please use tf.compat.v1.losses.sparse_softmax_cross_entropy instead.\n"
     ]
    }
   ],
   "source": [
    "from keras.preprocessing.image import ImageDataGenerator\n",
    "from keras.applications.inception_v3 import InceptionV3\n",
    "from keras.layers import GlobalAveragePooling2D, Dense\n",
    "from keras.models import Model\n",
    "from keras.optimizers import Adam"
   ]
  },
  {
   "cell_type": "markdown",
   "source": [
    "# Data augmentation for training set"
   ],
   "metadata": {
    "collapsed": false
   },
   "id": "453dd8b295f134c1"
  },
  {
   "cell_type": "code",
   "execution_count": 12,
   "outputs": [],
   "source": [
    "train_datagen = ImageDataGenerator(\n",
    "    rescale=1./255,\n",
    "    shear_range=0.2,\n",
    "    zoom_range=0.2,\n",
    "    horizontal_flip=True,\n",
    "    validation_split=0.2  # 80% for training, 20% for validation\n",
    ")"
   ],
   "metadata": {
    "collapsed": false,
    "ExecuteTime": {
     "end_time": "2024-02-25T20:46:10.903912600Z",
     "start_time": "2024-02-25T20:46:10.892332400Z"
    }
   },
   "id": "ee782b79e53438b7"
  },
  {
   "cell_type": "code",
   "execution_count": 13,
   "outputs": [
    {
     "name": "stdout",
     "output_type": "stream",
     "text": [
      "Found 822 images belonging to 20 classes.\n",
      "Found 197 images belonging to 20 classes.\n"
     ]
    }
   ],
   "source": [
    "# Load the dataset\n",
    "dataset_path = 'C:/Users/rmdmc/OneDrive/Desktop/Study Materials/2nd Year/DSGP/Data Set/DataSet-20240225T183842Z-001/DataSet'\n",
    "\n",
    "# training set\n",
    "train_generator = train_datagen.flow_from_directory(\n",
    "    dataset_path,\n",
    "    target_size=(299, 299),\n",
    "    batch_size=32,\n",
    "    class_mode='categorical',\n",
    "    subset='training'  # Specify the subset as 'training' for the training set\n",
    ")\n",
    "\n",
    "# Validation set\n",
    "validation_generator = train_datagen.flow_from_directory(\n",
    "    dataset_path,\n",
    "    target_size=(299, 299),\n",
    "    batch_size=32,\n",
    "    class_mode='categorical',\n",
    "    subset='validation'  # Specify the subset as 'validation' for the validation set\n",
    ")"
   ],
   "metadata": {
    "collapsed": false,
    "ExecuteTime": {
     "end_time": "2024-02-25T20:46:13.413453300Z",
     "start_time": "2024-02-25T20:46:13.357336600Z"
    }
   },
   "id": "d2362611e7870238"
  },
  {
   "cell_type": "markdown",
   "source": [
    "# Model layout"
   ],
   "metadata": {
    "collapsed": false
   },
   "id": "aee0a35cabd5e94d"
  },
  {
   "cell_type": "code",
   "execution_count": 16,
   "outputs": [],
   "source": [
    "# Base InceptionV3 model\n",
    "base_model = InceptionV3(weights='imagenet', include_top=False)\n",
    "\n",
    "# Freeze the layers of the base model\n",
    "for layer in base_model.layers:\n",
    "    layer.trainable = False\n",
    "    \n",
    "# Unfreeze last 20 layers of the base model    \n",
    "for layer in base_model.layers[-10:]:\n",
    "    layer.trainable = True\n",
    "\n",
    "# Additional layers\n",
    "x = base_model.output\n",
    "x = GlobalAveragePooling2D()(x)\n",
    "x = Dense(512, activation='relu')(x)\n",
    "\n",
    "# Add a fully connected layer with softmax activation\n",
    "predictions = Dense(20, activation='softmax')(x)\n",
    "\n",
    "# Create the final model\n",
    "model = Model(inputs=base_model.input, outputs=predictions)\n",
    "\n",
    "# Compile the model\n",
    "model.compile(optimizer=Adam(learning_rate=0.005), loss='categorical_crossentropy', metrics=['accuracy'])"
   ],
   "metadata": {
    "collapsed": false,
    "ExecuteTime": {
     "end_time": "2024-02-25T20:49:34.827276700Z",
     "start_time": "2024-02-25T20:49:32.690049Z"
    }
   },
   "id": "b3e4280700da1b0e"
  },
  {
   "cell_type": "markdown",
   "source": [
    "# Train the Model"
   ],
   "metadata": {
    "collapsed": false
   },
   "id": "d2d378ec89e52c1f"
  },
  {
   "cell_type": "code",
   "execution_count": 17,
   "outputs": [
    {
     "name": "stdout",
     "output_type": "stream",
     "text": [
      "Epoch 1/10\n",
      "26/26 [==============================] - 37s 1s/step - loss: 2.5997 - accuracy: 0.5146 - val_loss: 0.6378 - val_accuracy: 0.7462\n",
      "Epoch 2/10\n",
      "26/26 [==============================] - 36s 1s/step - loss: 0.5074 - accuracy: 0.8212 - val_loss: 0.5481 - val_accuracy: 0.8020\n",
      "Epoch 3/10\n",
      "26/26 [==============================] - 33s 1s/step - loss: 0.4075 - accuracy: 0.8382 - val_loss: 0.4491 - val_accuracy: 0.8528\n",
      "Epoch 4/10\n",
      "26/26 [==============================] - 33s 1s/step - loss: 0.3080 - accuracy: 0.8881 - val_loss: 0.3283 - val_accuracy: 0.8629\n",
      "Epoch 5/10\n",
      "26/26 [==============================] - 33s 1s/step - loss: 0.2650 - accuracy: 0.8954 - val_loss: 0.4003 - val_accuracy: 0.8579\n",
      "Epoch 6/10\n",
      "26/26 [==============================] - 32s 1s/step - loss: 0.3030 - accuracy: 0.8783 - val_loss: 0.3827 - val_accuracy: 0.8477\n",
      "Epoch 7/10\n",
      "26/26 [==============================] - 32s 1s/step - loss: 0.2578 - accuracy: 0.9088 - val_loss: 0.3882 - val_accuracy: 0.8782\n",
      "Epoch 8/10\n",
      "26/26 [==============================] - 33s 1s/step - loss: 0.2279 - accuracy: 0.9161 - val_loss: 0.3945 - val_accuracy: 0.8629\n",
      "Epoch 9/10\n",
      "26/26 [==============================] - 34s 1s/step - loss: 0.2009 - accuracy: 0.9319 - val_loss: 0.3325 - val_accuracy: 0.8934\n",
      "Epoch 10/10\n",
      "26/26 [==============================] - 33s 1s/step - loss: 0.1682 - accuracy: 0.9367 - val_loss: 0.4017 - val_accuracy: 0.8832\n"
     ]
    }
   ],
   "source": [
    "history = model.fit(train_generator, validation_data =validation_generator, epochs = 10)"
   ],
   "metadata": {
    "collapsed": false,
    "ExecuteTime": {
     "end_time": "2024-02-25T20:55:17.918302300Z",
     "start_time": "2024-02-25T20:49:41.097253600Z"
    }
   },
   "id": "90e6211e85c58495"
  },
  {
   "cell_type": "markdown",
   "source": [
    "# Save the Model"
   ],
   "metadata": {
    "collapsed": false
   },
   "id": "bfe2b2a8138f4510"
  },
  {
   "cell_type": "code",
   "execution_count": 18,
   "outputs": [],
   "source": [
    "model.save('C:/Users/rmdmc/OneDrive/Desktop/Study Materials/2nd Year/DSGP/Model/Our Dataset/InceptionV3_model02.keras')"
   ],
   "metadata": {
    "collapsed": false,
    "ExecuteTime": {
     "end_time": "2024-02-25T21:04:59.374561100Z",
     "start_time": "2024-02-25T21:04:58.393009900Z"
    }
   },
   "id": "284a58e08373db8a"
  },
  {
   "cell_type": "code",
   "execution_count": 19,
   "outputs": [
    {
     "data": {
      "text/plain": "<function matplotlib.pyplot.show(close=None, block=None)>"
     },
     "execution_count": 19,
     "metadata": {},
     "output_type": "execute_result"
    },
    {
     "data": {
      "text/plain": "<Figure size 640x480 with 1 Axes>",
      "image/png": "[encoded data removed]"
     },
     "metadata": {},
     "output_type": "display_data"
    }
   ],
   "source": [
    "import matplotlib.pyplot as plt\n",
    "\n",
    "\n",
    "fig1 = plt.gcf()\n",
    "plt.plot(history.history['accuracy'])\n",
    "plt.plot(history.history['val_accuracy'])\n",
    "plt.axis(ymin=0.1, ymax = 1.1)\n",
    "plt.grid()\n",
    "plt.title('Model Accuracy')\n",
    "plt.ylabel('Accuracy')\n",
    "plt.xlabel('Epochs')\n",
    "plt.legend(['train', 'validation'])\n",
    "plt.show"
   ],
   "metadata": {
    "collapsed": false,
    "ExecuteTime": {
     "end_time": "2024-02-25T21:05:00.792919Z",
     "start_time": "2024-02-25T21:05:00.659946800Z"
    }
   },
   "id": "2721bd2d3a7e2323"
  },
  {
   "cell_type": "code",
   "execution_count": 20,
   "outputs": [
    {
     "data": {
      "text/plain": "<function matplotlib.pyplot.show(close=None, block=None)>"
     },
     "execution_count": 20,
     "metadata": {},
     "output_type": "execute_result"
    },
    {
     "data": {
      "text/plain": "<Figure size 640x480 with 1 Axes>",
      "image/png": "[encoded data removed]"
     },
     "metadata": {},
     "output_type": "display_data"
    }
   ],
   "source": [
    "plt.plot(history.history['loss'])\n",
    "plt.plot(history.history['val_loss'])\n",
    "plt.grid()\n",
    "plt.title('Model Loss')\n",
    "plt.ylabel('Loss')\n",
    "plt.xlabel('Epochs')\n",
    "plt.legend(['train', 'validation'])\n",
    "plt.show"
   ],
   "metadata": {
    "collapsed": false,
    "ExecuteTime": {
     "end_time": "2024-02-25T21:05:06.788329700Z",
     "start_time": "2024-02-25T21:05:06.625381Z"
    }
   },
   "id": "3e2a6a018cea0c3f"
  },
  {
   "cell_type": "code",
   "execution_count": 25,
   "outputs": [],
   "source": [
    "classes = {v:k for k,v in train_generator.class_indices.items()}"
   ],
   "metadata": {
    "collapsed": false,
    "ExecuteTime": {
     "end_time": "2024-02-25T21:09:53.949504500Z",
     "start_time": "2024-02-25T21:09:53.946524300Z"
    }
   },
   "id": "216ac5426cbab577"
  },
  {
   "cell_type": "code",
   "execution_count": 26,
   "outputs": [
    {
     "name": "stdout",
     "output_type": "stream",
     "text": [
      "'Adam_s Peak','Bentota Beach','Clock Tower Jaffna','Clock Tower Kandy','Colombo National Museum','Dematamal Viharaya','Galle Light House','Gampola Kingdom_s Ambuluwawa Tower','Hikkaduwa Beach','Lotus Tower','Maligawila Buddha Statue','Mirissa Beach','Negombo Beach','Nine Arch Bridge','Pidurangala Rock','Ranmasu Uyana','Ravana Falls','Ruwanwelisaya','Sigiriya Rock','Thuparamaya Dagaba',"
     ]
    }
   ],
   "source": [
    "for i in range(20):\n",
    "    print(f\"'{classes[i]}',\", end=\"\")"
   ],
   "metadata": {
    "collapsed": false,
    "ExecuteTime": {
     "end_time": "2024-02-25T21:09:55.104448700Z",
     "start_time": "2024-02-25T21:09:55.100854700Z"
    }
   },
   "id": "a571385d4ed237c4"
  },
  {
   "cell_type": "code",
   "execution_count": null,
   "outputs": [],
   "source": [],
   "metadata": {
    "collapsed": false
   },
   "id": "7ebd7405acbc31a6"
  }
 ],
 "metadata": {
  "kernelspec": {
   "display_name": "Python 3",
   "language": "python",
   "name": "python3"
  },
  "language_info": {
   "codemirror_mode": {
    "name": "ipython",
    "version": 2
   },
   "file_extension": ".py",
   "mimetype": "text/x-python",
   "name": "python",
   "nbconvert_exporter": "python",
   "pygments_lexer": "ipython2",
   "version": "2.7.6"
  }
 },
 "nbformat": 4,
 "nbformat_minor": 5
}
