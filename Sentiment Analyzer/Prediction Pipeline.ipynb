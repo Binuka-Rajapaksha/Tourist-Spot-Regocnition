{
 "cells": [
  {
   "cell_type": "markdown",
   "id": "b222baa4-7bb3-454d-93c3-f1ebe0401bd8",
   "metadata": {},
   "source": [
    "## Prediction Pipeline"
   ]
  },
  {
   "cell_type": "code",
   "execution_count": 1,
   "id": "4f7ed35b-b8f8-4f81-bf34-ce76ad06b2b9",
   "metadata": {},
   "outputs": [],
   "source": [
    "import numpy as np\n",
    "import pandas as pd\n",
    "import re\n",
    "import string\n",
    "import pickle"
   ]
  },
  {
   "cell_type": "code",
   "execution_count": 3,
   "id": "78af4a47-8e18-469b-91fc-7c0349f285a3",
   "metadata": {},
   "outputs": [],
   "source": [
    "def remove_punctuations(text):\n",
    "    for punctuation in string.punctuation:\n",
    "        text = text.replace(punctuation, '')\n",
    "    return text"
   ]
  },
  {
   "cell_type": "code",
   "execution_count": 5,
   "id": "c098b802-274e-47f5-ab93-47bdb7e94aa6",
   "metadata": {},
   "outputs": [],
   "source": [
    "with open('static/model.pickle', 'rb') as f:\n",
    "    model = pickle.load(f)"
   ]
  },
  {
   "cell_type": "code",
   "execution_count": 6,
   "id": "0b1cff77-9fff-41b0-b7ff-f4109c41557c",
   "metadata": {},
   "outputs": [],
   "source": [
    "with open('static/corpora/stopwords/english', 'r') as file:\n",
    "    sw = file.read().splitlines()"
   ]
  },
  {
   "cell_type": "code",
   "execution_count": 7,
   "id": "2242fe14-4ba4-4b73-88e4-3b97967d6b8d",
   "metadata": {},
   "outputs": [],
   "source": [
    "vocab = pd.read_csv('static/vocabulary.txt', header=None)\n",
    "tokens = vocab[0].tolist()"
   ]
  },
  {
   "cell_type": "code",
   "execution_count": 8,
   "id": "a068f5f9-d914-4dda-9cfb-580827d4e7dc",
   "metadata": {},
   "outputs": [],
   "source": [
    "from nltk.stem import PorterStemmer\n",
    "ps = PorterStemmer()"
   ]
  },
  {
   "cell_type": "markdown",
   "id": "6670bc12-152a-4789-8750-9e7abf14208a",
   "metadata": {},
   "source": [
    "### Preprocessing Function"
   ]
  },
  {
   "cell_type": "code",
   "execution_count": 9,
   "id": "69a05046-013f-4b74-ad66-6ae554be6304",
   "metadata": {},
   "outputs": [],
   "source": [
    "def preprocessing(text):\n",
    "    data = pd.DataFrame([text], columns=['tweet'])\n",
    "    data[\"tweet\"] = data[\"tweet\"].apply(lambda x: \" \".join(x.lower() for x in x.split()))\n",
    "    data[\"tweet\"] = data['tweet'].apply(lambda x: \" \".join(re.sub(r'^https?:\\/\\/.*[\\r\\n]*', '', x, flags=re.MULTILINE) for x in x.split()))\n",
    "    data[\"tweet\"] = data[\"tweet\"].apply(remove_punctuations)\n",
    "    data[\"tweet\"] = data['tweet'].str.replace('\\d+', '', regex=True)\n",
    "    data[\"tweet\"] = data[\"tweet\"].apply(lambda x: \" \".join(x for x in x.split() if x not in sw))\n",
    "    data[\"tweet\"] = data[\"tweet\"].apply(lambda x: \" \".join(ps.stem(x) for x in x.split()))\n",
    "    return data[\"tweet\"]"
   ]
  },
  {
   "cell_type": "markdown",
   "id": "3626deff-52ed-4289-9b62-34b38a24d63b",
   "metadata": {},
   "source": [
    "### Vectorizing Function"
   ]
  },
  {
   "cell_type": "code",
   "execution_count": 10,
   "id": "47c1df03-ed2c-417e-9e4a-92f540336a00",
   "metadata": {},
   "outputs": [],
   "source": [
    "def vectorizer(ds, vocabulary):\n",
    "    vectorized_lst = []\n",
    "    \n",
    "    for sentence in ds:\n",
    "        sentence_lst = np.zeros(len(vocabulary))\n",
    "        \n",
    "        for i in range(len(vocabulary)):\n",
    "            if vocabulary[i] in sentence.split():\n",
    "                sentence_lst[i] = 1\n",
    "                \n",
    "        vectorized_lst.append(sentence_lst)\n",
    "        \n",
    "    vectorized_lst_new = np.asarray(vectorized_lst, dtype=np.float32)\n",
    "    \n",
    "    return vectorized_lst_new"
   ]
  },
  {
   "cell_type": "code",
   "execution_count": 11,
   "id": "b43f06b7-a23a-4cac-857a-e2afeebb9679",
   "metadata": {},
   "outputs": [],
   "source": [
    "def get_prediction(vectorized_text):\n",
    "    prediction = model.predict(vectorized_text)\n",
    "    if prediction == -1:\n",
    "        return 'Negative'\n",
    "    else:\n",
    "        return 'Positive'"
   ]
  },
  {
   "cell_type": "code",
   "execution_count": 14,
   "id": "8b68284c-2176-4ab9-b08c-789b9074dbb7",
   "metadata": {},
   "outputs": [],
   "source": [
    "def get_sentiment():\n",
    "    n=0\n",
    "    while n<5:\n",
    "        txt= input(\"Enter Your Text :\")\n",
    "        preprocessed_txt = preprocessing(txt)\n",
    "        vectorized_txt = vectorizer(preprocessed_txt, tokens)\n",
    "        prediction = get_prediction(vectorized_txt)\n",
    "        print('Your Input has ',prediction,' Sentiment')\n",
    "        n+=1"
   ]
  },
  {
   "cell_type": "code",
   "execution_count": null,
   "id": "b594b586-76e3-4b2a-a28f-b54a5dcea757",
   "metadata": {},
   "outputs": [
    {
     "name": "stdin",
     "output_type": "stream",
     "text": [
      "Enter Your Text : Don't go thieving, it takes money and time to finish everything, there are some liars and money grabbers here.\n"
     ]
    },
    {
     "name": "stdout",
     "output_type": "stream",
     "text": [
      "Your Input has  negative  Sentiment\n"
     ]
    },
    {
     "name": "stdin",
     "output_type": "stream",
     "text": [
      "Enter Your Text : Tried to call several times they are just cutting the call worst service\n"
     ]
    },
    {
     "name": "stdout",
     "output_type": "stream",
     "text": [
      "Your Input has  negative  Sentiment\n"
     ]
    },
    {
     "name": "stdin",
     "output_type": "stream",
     "text": [
      "Enter Your Text : Would give 0 stars if I can.\n"
     ]
    },
    {
     "name": "stdout",
     "output_type": "stream",
     "text": [
      "Your Input has  positive  Sentiment\n"
     ]
    },
    {
     "name": "stdin",
     "output_type": "stream",
     "text": [
      "Enter Your Text : Bad service. Don't recommend here.\n"
     ]
    },
    {
     "name": "stdout",
     "output_type": "stream",
     "text": [
      "Your Input has  negative  Sentiment\n"
     ]
    }
   ],
   "source": [
    "get_sentiment()"
   ]
  }
 ],
 "metadata": {
  "kernelspec": {
   "display_name": "Python 3 (ipykernel)",
   "language": "python",
   "name": "python3"
  },
  "language_info": {
   "codemirror_mode": {
    "name": "ipython",
    "version": 3
   },
   "file_extension": ".py",
   "mimetype": "text/x-python",
   "name": "python",
   "nbconvert_exporter": "python",
   "pygments_lexer": "ipython3",
   "version": "3.10.7"
  }
 },
 "nbformat": 4,
 "nbformat_minor": 5
}
